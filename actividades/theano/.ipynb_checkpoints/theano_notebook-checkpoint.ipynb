{
 "cells": [
  {
   "cell_type": "markdown",
   "metadata": {},
   "source": [
    "###EJEMPLOS THEANO\n",
    "\n",
    "Theano es una libreria de python que te permite definir, optimizar y evaluar expresiones matematicas que involucren vectores multidimencionales de manera eficiente. Las caracteristicas de Theano son:\n",
    "\n",
    ">cercana integración con NumPy - Usa numpy.ndarray en funciones compiladas de theano.\n",
    "\n",
    ">uso transparente de una GPU - Realiza calculos intesivos de datos cerca de 140 veces mas rapido que con una CPU. (solo float32).\n",
    "\n",
    ">eficiente diferenciación simbolica - Theano hace tus derivadas para funciones con una o más entradas.\n",
    "\n",
    ">optimizaciones de velocidad y estabilidad - Obtenga la respuesta correcta para log(1+x) incluso si x es realmente pequeño.\n",
    "\n",
    ">generacion dinaica de codigo c - Evalua expresiones mas rapidamente.\n",
    "\n",
    ">pruebas unitarias y propia verificacion extensiva - Detecta y diagnostica muchos tipos de errores.\n",
    "\n",
    "\n",
    "Theano ha hecho posible investigaciones cientificas computacionalmente intesivas de gran escala desde 2007. Pero tambien lo suficientemente accesible para ser usado en los salones de clase (IFT6266 at the University of Montreal).\n"
   ]
  },
  {
   "cell_type": "code",
   "execution_count": 2,
   "metadata": {
    "collapsed": true
   },
   "outputs": [],
   "source": [
    "import theano.tensor as T\n",
    "from theano import function\n",
    "x = T.dscalar('x')\n",
    "y = T.dscalar('y')\n",
    "z = x + y\n",
    "f = function([x, y], z)"
   ]
  },
  {
   "cell_type": "code",
   "execution_count": 3,
   "metadata": {
    "collapsed": false
   },
   "outputs": [
    {
     "data": {
      "text/plain": [
       "array(28.4)"
      ]
     },
     "execution_count": 3,
     "metadata": {},
     "output_type": "execute_result"
    }
   ],
   "source": [
    "#ahora usamos la funcion\n",
    "\n",
    "f(2, 3)\n",
    "\n",
    "# y tambien funciona con decimales\n",
    "\n",
    "f(16.3, 12.1)"
   ]
  },
  {
   "cell_type": "markdown",
   "metadata": {},
   "source": [
    "Vamos a dividir esto en muchos pasos. El primer paso es definir dos simbolos (Variables) representando las cantidades que tu quieres agregar. note que desde ahora, vamos a usar el termino variable para referirnos a \"simbolo\" (en otras palabras, $x$, $y$, $z$ son todas variables objeto). La salida de la funcion $f$ es un numpy.ndarray con cero dimensiones.\n",
    "\n",
    "si estas siguiendo los pasos y escribiendo un interprete, puedes haber notado que hay un pequeño retardo en la ejecución de la instruccion con la funcion. detras de scena, $f$ estaba siendo compilada a codigo C.\n",
    "\n",
    "####Paso 1"
   ]
  },
  {
   "cell_type": "code",
   "execution_count": 4,
   "metadata": {
    "collapsed": true
   },
   "outputs": [],
   "source": [
    "x = T.dscalar('x')\n",
    "y = T.dscalar('y')"
   ]
  },
  {
   "cell_type": "markdown",
   "metadata": {},
   "source": [
    "In Theano, all symbols must be typed. In particular, **T.dscalar** is the type we assign to “0-dimensional arrays (scalar) of doubles (d)”. It is a Theano Type.\n",
    "\n",
    "**dscalar** no es una clase. Por consiguiente, ni $x$ o $y$ son realmente instancias de **dscalar**. Ellos son instancias de TensorVariable. $x$ y $y$ son, sin embargo, asignados al tipo theano $dscalar$ en sus campos **type**, como puedes ver aqui:"
   ]
  },
  {
   "cell_type": "code",
   "execution_count": 5,
   "metadata": {
    "collapsed": false
   },
   "outputs": [
    {
     "data": {
      "text/plain": [
       "True"
      ]
     },
     "execution_count": 5,
     "metadata": {},
     "output_type": "execute_result"
    }
   ],
   "source": [
    "type(x)"
   ]
  },
  {
   "cell_type": "code",
   "execution_count": 6,
   "metadata": {
    "collapsed": false
   },
   "outputs": [
    {
     "data": {
      "text/plain": [
       "TensorType(float64, scalar)"
      ]
     },
     "execution_count": 6,
     "metadata": {},
     "output_type": "execute_result"
    }
   ],
   "source": [
    "x.type"
   ]
  },
  {
   "cell_type": "code",
   "execution_count": 7,
   "metadata": {
    "collapsed": false
   },
   "outputs": [
    {
     "data": {
      "text/plain": [
       "TensorType(float64, scalar)"
      ]
     },
     "execution_count": 7,
     "metadata": {},
     "output_type": "execute_result"
    }
   ],
   "source": [
    "T.dscalar"
   ]
  },
  {
   "cell_type": "code",
   "execution_count": 8,
   "metadata": {
    "collapsed": false
   },
   "outputs": [
    {
     "data": {
      "text/plain": [
       "True"
      ]
     },
     "execution_count": 8,
     "metadata": {},
     "output_type": "execute_result"
    }
   ],
   "source": [
    "x.type is T.dscalar"
   ]
  },
  {
   "cell_type": "markdown",
   "metadata": {},
   "source": [
    "#### Paso 2\n",
    "\n",
    "El segundo paso es combinar $x$ y $y$ en su suma $z$:"
   ]
  },
  {
   "cell_type": "code",
   "execution_count": null,
   "metadata": {
    "collapsed": true
   },
   "outputs": [],
   "source": [
    "z = x + y"
   ]
  },
  {
   "cell_type": "markdown",
   "metadata": {},
   "source": [
    "$z$ es otra variable la cual representa la adicion de $x$ y $y$. Puedes usar la funcion pp (pretty-print) para imprimir la computacion asociada a $z$."
   ]
  },
  {
   "cell_type": "code",
   "execution_count": 9,
   "metadata": {
    "collapsed": false
   },
   "outputs": [
    {
     "name": "stdout",
     "output_type": "stream",
     "text": [
      "(x + y)\n"
     ]
    }
   ],
   "source": [
    "from theano import pp\n",
    "print pp(z)"
   ]
  },
  {
   "cell_type": "markdown",
   "metadata": {},
   "source": [
    "#### Paso 3\n",
    "\n",
    "El ultimo paso es crear una funcion tomando $x$ y $y$ como entradas y dando $z$ como salida:"
   ]
  },
  {
   "cell_type": "code",
   "execution_count": null,
   "metadata": {
    "collapsed": true
   },
   "outputs": [],
   "source": [
    "f = function([x, y], z)"
   ]
  },
  {
   "cell_type": "code",
   "execution_count": null,
   "metadata": {
    "collapsed": true
   },
   "outputs": [],
   "source": []
  }
 ],
 "metadata": {
  "kernelspec": {
   "display_name": "Python 2",
   "language": "python",
   "name": "python2"
  },
  "language_info": {
   "codemirror_mode": {
    "name": "ipython",
    "version": 2
   },
   "file_extension": ".py",
   "mimetype": "text/x-python",
   "name": "python",
   "nbconvert_exporter": "python",
   "pygments_lexer": "ipython2",
   "version": "2.7.10"
  }
 },
 "nbformat": 4,
 "nbformat_minor": 0
}
