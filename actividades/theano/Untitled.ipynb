{
 "cells": [
  {
   "cell_type": "markdown",
   "metadata": {},
   "source": [
    "###EJEMPLOS THEANO\n",
    "\n",
    "Theano es una libreria de python que te permite definir, optimizar y evaluar expresiones matematicas que involucren vectores multidimencionales de manera eficiente. Las caracteristicas de Theano son:\n",
    "\n",
    ">cercana integración con NumPy - Usa numpy.ndarray en funciones compiladas de theano.\n",
    ">uso transparente de una GPU - Realiza calculos intesivos de datos cerca de 140 veces mas rapido que con una CPU. (solo float32).\n",
    ">eficiente diferenciación simbolica - Theano hace tus derivadas para funciones con una o más entradas.\n",
    ">optimizaciones de velocidad y estabilidad - Obtenga la respuesta correcta para log(1+x) incluso si x es realmente pequeño.\n",
    ">generacion dinaica de codigo c - Evalua expresiones mas rapidamente.\n",
    ">pruebas unitarias y propia verificacion extensiva - Detecta y diagnostica muchos tipos de errores.\n",
    "\n",
    "\n",
    "Theano ha hecho posible investigaciones cientificas computacionalmente intesivas de gran escala desde 2007. Pero tambien lo suficientemente accesible para ser usado en los salones de clase (IFT6266 at the University of Montreal).\n"
   ]
  },
  {
   "cell_type": "code",
   "execution_count": 1,
   "metadata": {
    "collapsed": true
   },
   "outputs": [],
   "source": [
    "import theano.tensor as T\n",
    "from theano import function\n",
    "x = T.dscalar('x')\n",
    "y = T.dscalar('y')\n",
    "z = x + y\n",
    "f = function([x, y], z)"
   ]
  },
  {
   "cell_type": "code",
   "execution_count": null,
   "metadata": {
    "collapsed": true
   },
   "outputs": [],
   "source": [
    "#ahora usamos la funcion\n",
    "\n",
    "f(2, 3)\n",
    "\n",
    "# y tambien funciona con decimales\n",
    "\n",
    "f(16.3, 12.1)"
   ]
  }
 ],
 "metadata": {
  "kernelspec": {
   "display_name": "Python 2",
   "language": "python",
   "name": "python2"
  },
  "language_info": {
   "codemirror_mode": {
    "name": "ipython",
    "version": 2
   },
   "file_extension": ".py",
   "mimetype": "text/x-python",
   "name": "python",
   "nbconvert_exporter": "python",
   "pygments_lexer": "ipython2",
   "version": "2.7.10"
  }
 },
 "nbformat": 4,
 "nbformat_minor": 0
}
