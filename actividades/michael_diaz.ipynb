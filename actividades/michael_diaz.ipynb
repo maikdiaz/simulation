{
 "cells": [
  {
   "cell_type": "code",
   "execution_count": null,
   "metadata": {
    "collapsed": true
   },
   "outputs": [],
   "source": [
    "%matplotlib inline \n",
    "\n",
    "\n",
    "import numpy as np\n",
    "import scipy as sp\n",
    "import matplotlib.pyplot as plt\n",
    "\n",
    "N = 100\n",
    "\n",
    "x1 = np.arange(1/N,1+1/N,1/N)\n",
    "y1 = np.cumsum(np.sort(u)/np.max(np.cumsum(u)))\n",
    "\n",
    "x2 = np.sort(x)\n",
    "y2 = np.cumsum(np.sort(x)/np.max(np.cumsum(x)))\n",
    "\n",
    "De=np.absolute(y2-y1)\n",
    "#print(D)\n",
    "print(\"De = \",np.max(De))\n",
    "\n",
    "# Plotting\n",
    "plt.plot(x1,y1,label='Uniform')\n",
    "plt.step(x2,y2,label='Random')\n",
    "x3 = [x1[De.argmax()],x1[De.argmax()]]\n",
    "y3 = [np.min([y1[De.argmax()],y2[De.argmax()]]),np.max([y1[De.argmax()],y2[De.argmax()]])]\n",
    "plt.step(x3,y3,label='D')\n",
    "\n",
    "#plt.plot(x1,De,label='De')\n",
    "\n",
    "plt.legend()\n",
    "plt.xlabel('X')\n",
    "plt.ylabel('Cumulative Probability P(X)')\n",
    "#plt.title('arbitrary')\n",
    "#plt.xscale('log')\n",
    "#plt.yscale('log')\n",
    "\n",
    "#plt.xlim(0, np.max([np.max(whitney),np.max(redwell)])+0.05)\n",
    "plt.ylim(0, 1.05)\n",
    "\n",
    "plt.show()\n"
   ]
  }
 ],
 "metadata": {
  "kernelspec": {
   "display_name": "Python 2",
   "language": "python",
   "name": "python2"
  },
  "language_info": {
   "codemirror_mode": {
    "name": "ipython",
    "version": 2
   },
   "file_extension": ".py",
   "mimetype": "text/x-python",
   "name": "python",
   "nbconvert_exporter": "python",
   "pygments_lexer": "ipython2",
   "version": "2.7.10"
  }
 },
 "nbformat": 4,
 "nbformat_minor": 0
}
